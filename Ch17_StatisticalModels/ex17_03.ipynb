{
 "cells": [
  {
   "cell_type": "code",
   "execution_count": 1,
   "id": "7710a86f",
   "metadata": {
    "scrolled": true
   },
   "outputs": [
    {
     "name": "stderr",
     "output_type": "stream",
     "text": [
      "Warning message:\n",
      "\"package 'dslabs' was built under R version 3.6.3\"Registered S3 methods overwritten by 'ggplot2':\n",
      "  method         from \n",
      "  [.quosures     rlang\n",
      "  c.quosures     rlang\n",
      "  print.quosures rlang\n",
      "Registered S3 method overwritten by 'rvest':\n",
      "  method            from\n",
      "  read_xml.response xml2\n",
      "-- Attaching packages --------------------------------------- tidyverse 1.2.1 --\n",
      "v ggplot2 3.1.1       v purrr   0.3.2  \n",
      "v tibble  2.1.1       v dplyr   0.8.0.1\n",
      "v tidyr   0.8.3       v stringr 1.4.0  \n",
      "v readr   1.3.1       v forcats 0.4.0  \n",
      "-- Conflicts ------------------------------------------ tidyverse_conflicts() --\n",
      "x dplyr::filter() masks stats::filter()\n",
      "x dplyr::lag()    masks stats::lag()\n"
     ]
    }
   ],
   "source": [
    "library(dslabs)\n",
    "library(tidyverse)"
   ]
  },
  {
   "cell_type": "code",
   "execution_count": 2,
   "id": "9b975847",
   "metadata": {},
   "outputs": [],
   "source": [
    "data(heights)"
   ]
  },
  {
   "cell_type": "code",
   "execution_count": 3,
   "id": "f36e44c2",
   "metadata": {},
   "outputs": [
    {
     "data": {
      "text/html": [
       "<table>\n",
       "<thead><tr><th scope=col>sex</th><th scope=col>height</th></tr></thead>\n",
       "<tbody>\n",
       "\t<tr><td>Male  </td><td>75    </td></tr>\n",
       "\t<tr><td>Male  </td><td>70    </td></tr>\n",
       "\t<tr><td>Male  </td><td>68    </td></tr>\n",
       "\t<tr><td>Male  </td><td>74    </td></tr>\n",
       "\t<tr><td>Male  </td><td>61    </td></tr>\n",
       "\t<tr><td>Female</td><td>65    </td></tr>\n",
       "</tbody>\n",
       "</table>\n"
      ],
      "text/latex": [
       "\\begin{tabular}{r|ll}\n",
       " sex & height\\\\\n",
       "\\hline\n",
       "\t Male   & 75    \\\\\n",
       "\t Male   & 70    \\\\\n",
       "\t Male   & 68    \\\\\n",
       "\t Male   & 74    \\\\\n",
       "\t Male   & 61    \\\\\n",
       "\t Female & 65    \\\\\n",
       "\\end{tabular}\n"
      ],
      "text/markdown": [
       "\n",
       "| sex | height |\n",
       "|---|---|\n",
       "| Male   | 75     |\n",
       "| Male   | 70     |\n",
       "| Male   | 68     |\n",
       "| Male   | 74     |\n",
       "| Male   | 61     |\n",
       "| Female | 65     |\n",
       "\n"
      ],
      "text/plain": [
       "  sex    height\n",
       "1 Male   75    \n",
       "2 Male   70    \n",
       "3 Male   68    \n",
       "4 Male   74    \n",
       "5 Male   61    \n",
       "6 Female 65    "
      ]
     },
     "metadata": {},
     "output_type": "display_data"
    }
   ],
   "source": [
    "head(heights)"
   ]
  },
  {
   "cell_type": "code",
   "execution_count": 4,
   "id": "989b13ff",
   "metadata": {},
   "outputs": [],
   "source": [
    "x <- heights %>% filter(sex=='Male') %>% pull(height)"
   ]
  },
  {
   "cell_type": "markdown",
   "id": "490a5f2c",
   "metadata": {},
   "source": [
    "### 1. Mathematically speaking, x is our population. Using the urn analogy, we have an urn with the values of x in it. What are the average and standard deviation of our population?\n"
   ]
  },
  {
   "cell_type": "code",
   "execution_count": 5,
   "id": "9d93c155",
   "metadata": {},
   "outputs": [
    {
     "data": {
      "text/html": [
       "<ol class=list-inline>\n",
       "\t<li>69.3147549414356</li>\n",
       "\t<li>3.6110236746673</li>\n",
       "</ol>\n"
      ],
      "text/latex": [
       "\\begin{enumerate*}\n",
       "\\item 69.3147549414356\n",
       "\\item 3.6110236746673\n",
       "\\end{enumerate*}\n"
      ],
      "text/markdown": [
       "1. 69.3147549414356\n",
       "2. 3.6110236746673\n",
       "\n",
       "\n"
      ],
      "text/plain": [
       "[1] 69.314755  3.611024"
      ]
     },
     "metadata": {},
     "output_type": "display_data"
    }
   ],
   "source": [
    "ans=c(mean(x),sd(x))\n",
    "ans"
   ]
  },
  {
   "cell_type": "markdown",
   "id": "352ee672",
   "metadata": {},
   "source": [
    "### 2. Call the population average computed above μ and the standard deviation σ. Now take a sample of size 50, with replacement, and construct an estimate for μ and σ."
   ]
  },
  {
   "cell_type": "code",
   "execution_count": 6,
   "id": "b66b916c",
   "metadata": {},
   "outputs": [],
   "source": [
    "mu=ans[1]\n",
    "sigma=ans[2]"
   ]
  },
  {
   "cell_type": "code",
   "execution_count": 7,
   "id": "031bbf3b",
   "metadata": {},
   "outputs": [],
   "source": [
    "N <- 50 \n",
    "poll <- sample(x,N,replace=TRUE)"
   ]
  },
  {
   "cell_type": "code",
   "execution_count": 8,
   "id": "624f52ea",
   "metadata": {},
   "outputs": [
    {
     "name": "stdout",
     "output_type": "stream",
     "text": [
      "[1] 69.6171\n",
      "[1] 2.6775\n"
     ]
    }
   ],
   "source": [
    "mu_bar <- mean(poll)\n",
    "sigma_bar <- sd(poll)\n",
    "print(round(mu_bar,4))\n",
    "print(round(sigma_bar,4))"
   ]
  },
  {
   "cell_type": "markdown",
   "id": "e7feb219",
   "metadata": {},
   "source": [
    "### 3. What does the theory tell us about the sample average ¯X and how it is related to μ\n",
    "\n",
    "A. It is practically identical to μ.\n",
    "\n",
    "B.It is a random variable with expected value μ\n",
    "and standard error σ/√N.\n",
    "\n",
    "C. It is a random variable with expected value μ\n",
    "and standard error σ.\n",
    "\n",
    "D.Contains no information.\n",
    "\n",
    "Ans(B)"
   ]
  },
  {
   "cell_type": "markdown",
   "id": "cc9eddcf",
   "metadata": {},
   "source": [
    "### 4. So how is this useful? We are going to use an oversimplified yet illustrative example. Suppose we want to know the average height of our male students, but we only get to measure 50 of the 708. We will use ¯X as our estimate. We know from the answer to exercise 3 that the standard estimate of our error ¯X−μ is σ/√N. We want to compute this, but we don’t know σ. Based on what is described in this section, show your estimate of σ."
   ]
  },
  {
   "cell_type": "code",
   "execution_count": 9,
   "id": "0fae1bca",
   "metadata": {
    "scrolled": true
   },
   "outputs": [
    {
     "data": {
      "text/html": [
       "2.6775"
      ],
      "text/latex": [
       "2.6775"
      ],
      "text/markdown": [
       "2.6775"
      ],
      "text/plain": [
       "[1] 2.6775"
      ]
     },
     "metadata": {},
     "output_type": "display_data"
    }
   ],
   "source": [
    "round(sigma_bar,4)"
   ]
  },
  {
   "cell_type": "markdown",
   "id": "73f5de87",
   "metadata": {},
   "source": [
    "### 5. Now that we have an estimate of σ, let’s call our estimate s. Construct a 95% confidence interval for μ."
   ]
  },
  {
   "cell_type": "code",
   "execution_count": 10,
   "id": "da60544c",
   "metadata": {},
   "outputs": [
    {
     "data": {
      "text/html": [
       "<ol class=list-inline>\n",
       "\t<li>68.8749</li>\n",
       "\t<li>70.3592</li>\n",
       "</ol>\n"
      ],
      "text/latex": [
       "\\begin{enumerate*}\n",
       "\\item 68.8749\n",
       "\\item 70.3592\n",
       "\\end{enumerate*}\n"
      ],
      "text/markdown": [
       "1. 68.8749\n",
       "2. 70.3592\n",
       "\n",
       "\n"
      ],
      "text/plain": [
       "[1] 68.8749 70.3592"
      ]
     },
     "metadata": {},
     "output_type": "display_data"
    }
   ],
   "source": [
    "se <- sigma_bar/sqrt(N)\n",
    "ci <- c(-1.96,1.96)\n",
    "\n",
    "ci_mu_bar <- mu_bar + ci*se\n",
    "round(ci_mu_bar,4)"
   ]
  },
  {
   "cell_type": "code",
   "execution_count": 11,
   "id": "a8b8dbde",
   "metadata": {},
   "outputs": [
    {
     "data": {
      "text/html": [
       "TRUE"
      ],
      "text/latex": [
       "TRUE"
      ],
      "text/markdown": [
       "TRUE"
      ],
      "text/plain": [
       "[1] TRUE"
      ]
     },
     "metadata": {},
     "output_type": "display_data"
    }
   ],
   "source": [
    "between(mean(x), ci_mu_bar[1],ci_mu_bar[2])"
   ]
  },
  {
   "cell_type": "markdown",
   "id": "984a92ce",
   "metadata": {},
   "source": [
    "### 6. Now run a Monte Carlo simulation in which you compute 10,000 confidence intervals as you have just done. What proportion of these intervals include μ?"
   ]
  },
  {
   "cell_type": "code",
   "execution_count": 12,
   "id": "7e14fe15",
   "metadata": {
    "scrolled": true
   },
   "outputs": [
    {
     "name": "stdout",
     "output_type": "stream",
     "text": [
      "[1] 0.9452\n"
     ]
    }
   ],
   "source": [
    "B <- 10**4\n",
    "N <- 50\n",
    "mu <- mean(x)\n",
    "\n",
    "make_ci <- function(x){\n",
    "    poll <- sample(x,N,replace=TRUE)\n",
    "    mu_bar <- mean(poll)\n",
    "    sigma_bar <- sd(poll)\n",
    "    se <- sigma_bar/sqrt(N)\n",
    "    ci_mu_bar <- mu_bar + c(-1.96,1.96)*se\n",
    "    between(mean(x), ci_mu_bar[1],ci_mu_bar[2])\n",
    "}\n",
    "\n",
    "print(round(mean(replicate(B, make_ci(x))),4))\n",
    "# approximately 94% of the times"
   ]
  },
  {
   "cell_type": "markdown",
   "id": "e8901f0e",
   "metadata": {},
   "source": [
    "### 7. In this section, we talked about pollster bias. We used visualization to motivate the presence of such bias. Here we will give it a more rigorous treatment. We will consider two pollsters that conducted daily polls. We will look at national polls for the month before the election."
   ]
  },
  {
   "cell_type": "code",
   "execution_count": 13,
   "id": "0dfaa97f",
   "metadata": {},
   "outputs": [
    {
     "data": {
      "image/png": "[encoded data removed]",
      "text/plain": [
       "plot without title"
      ]
     },
     "metadata": {},
     "output_type": "display_data"
    }
   ],
   "source": [
    "data(polls_us_election_2016)\n",
    "polls <- polls_us_election_2016 %>% \n",
    "  filter(pollster %in% c(\"Rasmussen Reports/Pulse Opinion Research\",\n",
    "                         \"The Times-Picayune/Lucid\") &\n",
    "           enddate >= \"2016-10-15\" &\n",
    "           state == \"U.S.\") %>% \n",
    "  mutate(spread = rawpoll_clinton/100 - rawpoll_trump/100) \n",
    "\n",
    "polls %>% ggplot(aes(spread, pollster)) + \n",
    "    geom_point()"
   ]
  },
  {
   "cell_type": "markdown",
   "id": "89b10e1a",
   "metadata": {},
   "source": [
    "### 8. The data does seem to suggest there is a difference. However, these data are subject to variability. Perhaps the differences we observe are due to chance. The urn model theory says nothing about pollster effect. Under the urn model, both pollsters have the same expected value: the election day difference, that we call d. To answer the question “is there an urn model?”, we will model the observed data Yi,j in the following way:\n",
    "\n",
    "### Yi,j=d+bi+εi,j    with i=1,2\n",
    "\n",
    "### indexing the two pollsters, bi the bias for pollster i and εij poll to poll chance variability. We assume the ε are independent from each other, have expected value 0 and standard deviation σi regardless of j.\n",
    "\n",
    "###  Which of the following best represents our question?\n",
    "\n",
    "    A. Is εi,j= 0?\n",
    "    B. How close are the Yi,j to d?\n",
    "    C. Is b1≠b2?\n",
    "    D. Are b1=0 and b2=0 ?"
   ]
  },
  {
   "cell_type": "markdown",
   "id": "38e15634",
   "metadata": {},
   "source": [
    "Ans:(D)"
   ]
  },
  {
   "cell_type": "markdown",
   "id": "d4f95aba",
   "metadata": {},
   "source": [
    "### 9. In the right side of this model only εi,j is a random variable. The other two are constants. What is the expected value of Y1,j?\n",
    "\n",
    "Ans: d+bi"
   ]
  },
  {
   "cell_type": "markdown",
   "id": "ef225e3e",
   "metadata": {},
   "source": [
    "### 10. Suppose we define ¯Y1 as the average of poll results from the first poll, Y1,1,…,Y1,N1 with N1 the number of polls conducted by the first pollster. What is the expected values ¯Y1?"
   ]
  },
  {
   "cell_type": "code",
   "execution_count": 14,
   "id": "420f0b82",
   "metadata": {},
   "outputs": [
    {
     "data": {
      "text/html": [
       "0.0100000000000001"
      ],
      "text/latex": [
       "0.0100000000000001"
      ],
      "text/markdown": [
       "0.0100000000000001"
      ],
      "text/plain": [
       "[1] 0.01"
      ]
     },
     "metadata": {},
     "output_type": "display_data"
    }
   ],
   "source": [
    "sum1 <- polls %>% \n",
    "  filter(pollster==\"Rasmussen Reports/Pulse Opinion Research\") %>% \n",
    "  summarize(N_1 = n(), Y1bar_hat=sum(spread), se_1=sd(spread)/sqrt(N_1))\n",
    "sum1$Y1bar_hat"
   ]
  },
  {
   "cell_type": "markdown",
   "id": "c3e06989",
   "metadata": {},
   "source": [
    "### 11. What is the standard error of ¯Y1 ?"
   ]
  },
  {
   "cell_type": "code",
   "execution_count": 15,
   "id": "ec7fef18",
   "metadata": {},
   "outputs": [
    {
     "data": {
      "text/html": [
       "0.0044223626792323"
      ],
      "text/latex": [
       "0.0044223626792323"
      ],
      "text/markdown": [
       "0.0044223626792323"
      ],
      "text/plain": [
       "[1] 0.004422363"
      ]
     },
     "metadata": {},
     "output_type": "display_data"
    }
   ],
   "source": [
    "sum1$se_1"
   ]
  },
  {
   "cell_type": "markdown",
   "id": "25b225ab",
   "metadata": {},
   "source": [
    "### 12. Suppose we define ¯Y2 as the average of poll results from the first poll, Y2,1,…,Y2,N2 with N2 the number of polls conducted by the first pollster. What is the expected value ¯Y2?\n",
    "### (They mean second pollster. 12 and 13 answered below 13.)\n",
    "###  13. What is the standard error of ¯Y2?"
   ]
  },
  {
   "cell_type": "code",
   "execution_count": 16,
   "id": "cb510953",
   "metadata": {},
   "outputs": [
    {
     "data": {
      "text/html": [
       "<table>\n",
       "<thead><tr><th scope=col>N_2</th><th scope=col>Y2bar_hat</th><th scope=col>se_2</th></tr></thead>\n",
       "<tbody>\n",
       "\t<tr><td>24         </td><td>0.05291667 </td><td>0.005466604</td></tr>\n",
       "</tbody>\n",
       "</table>\n"
      ],
      "text/latex": [
       "\\begin{tabular}{r|lll}\n",
       " N\\_2 & Y2bar\\_hat & se\\_2\\\\\n",
       "\\hline\n",
       "\t 24          & 0.05291667  & 0.005466604\\\\\n",
       "\\end{tabular}\n"
      ],
      "text/markdown": [
       "\n",
       "| N_2 | Y2bar_hat | se_2 |\n",
       "|---|---|---|\n",
       "| 24          | 0.05291667  | 0.005466604 |\n",
       "\n"
      ],
      "text/plain": [
       "  N_2 Y2bar_hat  se_2       \n",
       "1 24  0.05291667 0.005466604"
      ]
     },
     "metadata": {},
     "output_type": "display_data"
    }
   ],
   "source": [
    "sum2 <- polls %>% \n",
    "  filter(pollster==\"The Times-Picayune/Lucid\") %>% \n",
    "  summarize(N_2 = n(), Y2bar_hat=mean(spread), se_2=sd(spread)/sqrt(N_2)) \n",
    "sum2"
   ]
  },
  {
   "cell_type": "markdown",
   "id": "7b8186d6",
   "metadata": {},
   "source": [
    "### 14. Using what we learned by answering the questions above, what is the expected value of ¯Y2−¯Y1?\n",
    "### 15. Using what we learned by answering the questions above, what is the standard error of ¯Y2−¯Y1?\n",
    "Difference in biases"
   ]
  },
  {
   "cell_type": "code",
   "execution_count": 17,
   "id": "36c8a027",
   "metadata": {},
   "outputs": [
    {
     "data": {
      "text/html": [
       "-0.0429166666666666"
      ],
      "text/latex": [
       "-0.0429166666666666"
      ],
      "text/markdown": [
       "-0.0429166666666666"
      ],
      "text/plain": [
       "[1] -0.04291667"
      ]
     },
     "metadata": {},
     "output_type": "display_data"
    }
   ],
   "source": [
    "diff <- sum1$Y1bar_hat - sum2$Y2bar_hat\n",
    "diff"
   ]
  },
  {
   "cell_type": "code",
   "execution_count": 18,
   "id": "29fb843f",
   "metadata": {
    "scrolled": true
   },
   "outputs": [
    {
     "data": {
      "text/html": [
       "0.00157082374274677"
      ],
      "text/latex": [
       "0.00157082374274677"
      ],
      "text/markdown": [
       "0.00157082374274677"
      ],
      "text/plain": [
       "[1] 0.001570824"
      ]
     },
     "metadata": {},
     "output_type": "display_data"
    }
   ],
   "source": [
    "se_diff <- ((sum1$se_1)**2/sum1$N_1+(sum2$se_2)**2/sum2$N_2)**.5\n",
    "se_diff"
   ]
  },
  {
   "cell_type": "markdown",
   "id": "a1237c74",
   "metadata": {},
   "source": [
    "### 17. What does the CLT tell us about the distribution of ¯Y2−¯Y1?\n",
    "\n",
    "    A. Nothing because this is not the average of a sample.\n",
    "    B. Because the Yij are approximately normal, so are the averages.\n",
    "    C. Note that ¯Y2 and ¯Y1 are sample averages, so if we assume N2 and N1 are large enough, each is approximately normal. The difference of normals is also normal.\n",
    "    D. The data are not 0 or 1, so CLT does not apply.\n",
    "    \n",
    "Ans(C)"
   ]
  },
  {
   "cell_type": "markdown",
   "id": "8b02f8e3",
   "metadata": {},
   "source": [
    "### 18. We have constructed a random variable that has expected value b2−b1, the pollster bias difference. If our model holds, then this random variable has an approximately normal distribution and we know its standard error. The standard error depends on σ1 and σ2, but we can plug the sample standard deviations we computed above. We started off by asking: is b2−b1 different from 0? Use all the information we have learned above to construct a 95% confidence interval for the difference b2 and b1."
   ]
  },
  {
   "cell_type": "code",
   "execution_count": 19,
   "id": "a62a414f",
   "metadata": {},
   "outputs": [
    {
     "data": {
      "text/html": [
       "<ol class=list-inline>\n",
       "\t<li>-0.0459954812024503</li>\n",
       "\t<li>-0.0398378521308829</li>\n",
       "</ol>\n"
      ],
      "text/latex": [
       "\\begin{enumerate*}\n",
       "\\item -0.0459954812024503\n",
       "\\item -0.0398378521308829\n",
       "\\end{enumerate*}\n"
      ],
      "text/markdown": [
       "1. -0.0459954812024503\n",
       "2. -0.0398378521308829\n",
       "\n",
       "\n"
      ],
      "text/plain": [
       "[1] -0.04599548 -0.03983785"
      ]
     },
     "metadata": {},
     "output_type": "display_data"
    }
   ],
   "source": [
    "ci <- diff + c(-1.96,1.96)*se_diff\n",
    "ci"
   ]
  },
  {
   "cell_type": "markdown",
   "id": "72e186af",
   "metadata": {},
   "source": [
    "### 19. The confidence interval tells us there is relatively strong pollster effect resulting in a difference of about 5%. Random variability does not seem to explain it. We can compute a p-value to relay the fact that chance does not explain it. What is the p-value?"
   ]
  },
  {
   "cell_type": "code",
   "execution_count": 20,
   "id": "c297b2ec",
   "metadata": {},
   "outputs": [
    {
     "data": {
      "text/html": [
       "1.19026449189281e-164"
      ],
      "text/latex": [
       "1.19026449189281e-164"
      ],
      "text/markdown": [
       "1.19026449189281e-164"
      ],
      "text/plain": [
       "[1] 1.190264e-164"
      ]
     },
     "metadata": {},
     "output_type": "display_data"
    }
   ],
   "source": [
    "pnorm(-abs(diff/se_diff))\n",
    "# almost zero"
   ]
  }
 ],
 "metadata": {
  "kernelspec": {
   "display_name": "R",
   "language": "R",
   "name": "ir"
  },
  "language_info": {
   "codemirror_mode": "r",
   "file_extension": ".r",
   "mimetype": "text/x-r-source",
   "name": "R",
   "pygments_lexer": "r",
   "version": "3.6.1"
  }
 },
 "nbformat": 4,
 "nbformat_minor": 5
}
